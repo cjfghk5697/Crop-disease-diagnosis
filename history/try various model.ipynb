{
  "cells": [
    {
      "cell_type": "markdown",
      "metadata": {
        "id": "9Ng_COrPEzAd"
      },
      "source": [
        "# 가벼운 모델들 사용\n",
        "* mobilenet_v3_large <br>\n",
        " 1. lagre: 연산 속도가 높고 가벼운 모델 -> 정확도가 small에 비해 낮음 <br>\n",
        " 2. small : 연산속도가 좀더 낮고 무거운 모델 -> 속도가 large에 비해 낮음\n",
        "\n",
        "* densenet201\n",
        "\n",
        "\n",
        "# early stopping, scheduler 추가"
      ]
    },
    {
      "cell_type": "code",
      "execution_count": null,
      "metadata": {
        "colab": {
          "base_uri": "https://localhost:8080/"
        },
        "id": "FLmiP0VckTh5",
        "outputId": "a3338d3c-8d30-462d-9e81-0c41a772bdb1"
      },
      "outputs": [
        {
          "name": "stdout",
          "output_type": "stream",
          "text": [
            "Mounted at /content/drive\n"
          ]
        }
      ],
      "source": [
        "from google.colab import drive\n",
        "drive.mount('/content/drive')"
      ]
    },
    {
      "cell_type": "code",
      "execution_count": null,
      "metadata": {
        "colab": {
          "base_uri": "https://localhost:8080/"
        },
        "id": "GcE-NvEFnMeh",
        "outputId": "6aed997b-82f8-474d-8ffb-fe37c48a6d23"
      },
      "outputs": [
        {
          "name": "stdout",
          "output_type": "stream",
          "text": [
            "/content/drive/MyDrive/data\n"
          ]
        }
      ],
      "source": [
        "%cd \"/content/drive/MyDrive/data/\"\n",
        "!unzip -q \"/content/drive/MyDrive/data/train.zip\""
      ]
    },
    {
      "cell_type": "code",
      "execution_count": null,
      "metadata": {
        "colab": {
          "base_uri": "https://localhost:8080/"
        },
        "id": "C69AldJvMvBw",
        "outputId": "a97fe073-1ddb-4c02-9369-b0b10e36c6be"
      },
      "outputs": [
        {
          "name": "stdout",
          "output_type": "stream",
          "text": [
            "Looking in indexes: https://pypi.org/simple, https://us-python.pkg.dev/colab-wheels/public/simple/\n",
            "Collecting torchsampler\n",
            "  Downloading torchsampler-0.1.2-py3-none-any.whl (5.6 kB)\n",
            "Requirement already satisfied: torchvision>=0.5 in /usr/local/lib/python3.7/dist-packages (from torchsampler) (0.13.0+cu113)\n",
            "Requirement already satisfied: torch>=1.3 in /usr/local/lib/python3.7/dist-packages (from torchsampler) (1.12.0+cu113)\n",
            "Requirement already satisfied: pandas in /usr/local/lib/python3.7/dist-packages (from torchsampler) (1.3.5)\n",
            "Requirement already satisfied: importlib-metadata in /usr/local/lib/python3.7/dist-packages (from torchsampler) (4.12.0)\n",
            "Requirement already satisfied: typing-extensions in /usr/local/lib/python3.7/dist-packages (from torch>=1.3->torchsampler) (4.1.1)\n",
            "Requirement already satisfied: pillow!=8.3.*,>=5.3.0 in /usr/local/lib/python3.7/dist-packages (from torchvision>=0.5->torchsampler) (7.1.2)\n",
            "Requirement already satisfied: numpy in /usr/local/lib/python3.7/dist-packages (from torchvision>=0.5->torchsampler) (1.21.6)\n",
            "Requirement already satisfied: requests in /usr/local/lib/python3.7/dist-packages (from torchvision>=0.5->torchsampler) (2.23.0)\n",
            "Requirement already satisfied: zipp>=0.5 in /usr/local/lib/python3.7/dist-packages (from importlib-metadata->torchsampler) (3.8.1)\n",
            "Requirement already satisfied: python-dateutil>=2.7.3 in /usr/local/lib/python3.7/dist-packages (from pandas->torchsampler) (2.8.2)\n",
            "Requirement already satisfied: pytz>=2017.3 in /usr/local/lib/python3.7/dist-packages (from pandas->torchsampler) (2022.1)\n",
            "Requirement already satisfied: six>=1.5 in /usr/local/lib/python3.7/dist-packages (from python-dateutil>=2.7.3->pandas->torchsampler) (1.15.0)\n",
            "Requirement already satisfied: urllib3!=1.25.0,!=1.25.1,<1.26,>=1.21.1 in /usr/local/lib/python3.7/dist-packages (from requests->torchvision>=0.5->torchsampler) (1.24.3)\n",
            "Requirement already satisfied: idna<3,>=2.5 in /usr/local/lib/python3.7/dist-packages (from requests->torchvision>=0.5->torchsampler) (2.10)\n",
            "Requirement already satisfied: chardet<4,>=3.0.2 in /usr/local/lib/python3.7/dist-packages (from requests->torchvision>=0.5->torchsampler) (3.0.4)\n",
            "Requirement already satisfied: certifi>=2017.4.17 in /usr/local/lib/python3.7/dist-packages (from requests->torchvision>=0.5->torchsampler) (2022.6.15)\n",
            "Installing collected packages: torchsampler\n",
            "Successfully installed torchsampler-0.1.2\n"
          ]
        }
      ],
      "source": [
        "!pip install torchsampler"
      ]
    },
    {
      "cell_type": "code",
      "execution_count": null,
      "metadata": {
        "id": "aQwABb4aHvJy"
      },
      "outputs": [],
      "source": [
        "import os\n",
        "os.environ[\"CUDA_VISIBLE_DEVICES\"]=\"0\""
      ]
    },
    {
      "cell_type": "code",
      "execution_count": null,
      "metadata": {
        "id": "bU2HqA8XHvJ3"
      },
      "outputs": [],
      "source": [
        "import numpy as np\n",
        "import pandas as pd\n",
        "import matplotlib.pyplot as plt\n",
        "import cv2\n",
        "from torchsampler import ImbalancedDatasetSampler\n",
        "from tqdm import tqdm\n",
        "import shutil\n",
        "import glob\n",
        "import utils\n",
        "import numpy\n",
        "import json \n",
        "import torch\n",
        "import torchvision.transforms as transforms\n",
        "from utils import CosineAnnealingWarmUpRestarts, EarlyStopping\n",
        "\n",
        "from autoaugment import ImageNetPolicy, CIFAR10Policy, SVHNPolicy, SubPolicy\n",
        "from torch import nn\n",
        "from torchvision import models\n",
        "from torch.utils.data import Dataset\n",
        "from sklearn.metrics import f1_score\n",
        "from sklearn.model_selection import train_test_split\n",
        "from typing import Tuple, Sequence, Callable\n",
        "from torch.autograd import Variable\n",
        "from PIL import Image\n"
      ]
    },
    {
      "cell_type": "code",
      "execution_count": null,
      "metadata": {
        "colab": {
          "base_uri": "https://localhost:8080/",
          "height": 219
        },
        "id": "JiGpQ-HBKPy2",
        "outputId": "a6f2639f-56e4-443b-c311-68860580d598"
      },
      "outputs": [
        {
          "data": {
            "application/vnd.google.colaboratory.intrinsic+json": {
              "type": "string"
            },
            "text/plain": [
              "\"\\n# 효과 없음\\n# 전체 복사\\nfor path in glob.glob('/content/drive/MyDrive/data/train/*'):\\n    shutil.copytree(path,f'{path}_focus')\\n#각 파일 포맷들 이름 변경\\nfor sample in glob.glob('/content/drive/MyDrive/data/train/*focus/*.csv'):\\n     os.rename(sample,f'{sample[:-4]}_focus.csv')\\n\\nfor sample in glob.glob('/content/drive/MyDrive/data/train/*focus/*.json'):\\n     os.rename(sample,f'{sample[:-5]}_focus.json')\\n\\nfor sample in glob.glob('/content/drive/MyDrive/data/train/*focus/*.jpg'):\\n     os.rename(sample,f'{sample[:-4]}_focus.jpg')\\n\\n# # 객체 영역만 저장\\nfor sample in glob.glob('/content/drive/MyDrive/data/train/*focus'):\\n     img_path = glob.glob(f'{sample}/*.jpg')[0]\\n     sample_image = cv2.imread(img_path)\\n     sample_json = json.load(open(glob.glob(f'{sample}/*.json')[0],'r'))\\n     points = sample_json['annotations']['bbox'][0]\\n     x= int(points['x'])\\n     y= int(points['y'])\\n     w= int(points['w'])\\n     h= int(points['h'])\\n     crop_focus = sample_image[y:y+h,x:x+w,:].copy()\\n     cv2.imwrite(img_path,crop_focus)\\n\""
            ]
          },
          "execution_count": 6,
          "metadata": {},
          "output_type": "execute_result"
        }
      ],
      "source": [
        "\"\"\"\n",
        "# 효과 없음\n",
        "# 전체 복사\n",
        "for path in glob.glob('/content/drive/MyDrive/data/train/*'):\n",
        "    shutil.copytree(path,f'{path}_focus')\n",
        "#각 파일 포맷들 이름 변경\n",
        "for sample in glob.glob('/content/drive/MyDrive/data/train/*focus/*.csv'):\n",
        "     os.rename(sample,f'{sample[:-4]}_focus.csv')\n",
        "\n",
        "for sample in glob.glob('/content/drive/MyDrive/data/train/*focus/*.json'):\n",
        "     os.rename(sample,f'{sample[:-5]}_focus.json')\n",
        "\n",
        "for sample in glob.glob('/content/drive/MyDrive/data/train/*focus/*.jpg'):\n",
        "     os.rename(sample,f'{sample[:-4]}_focus.jpg')\n",
        "\n",
        "# # 객체 영역만 저장\n",
        "for sample in glob.glob('/content/drive/MyDrive/data/train/*focus'):\n",
        "     img_path = glob.glob(f'{sample}/*.jpg')[0]\n",
        "     sample_image = cv2.imread(img_path)\n",
        "     sample_json = json.load(open(glob.glob(f'{sample}/*.json')[0],'r'))\n",
        "     points = sample_json['annotations']['bbox'][0]\n",
        "     x= int(points['x'])\n",
        "     y= int(points['y'])\n",
        "     w= int(points['w'])\n",
        "     h= int(points['h'])\n",
        "     crop_focus = sample_image[y:y+h,x:x+w,:].copy()\n",
        "     cv2.imwrite(img_path,crop_focus)\n",
        "\"\"\""
      ]
    },
    {
      "cell_type": "markdown",
      "metadata": {
        "id": "QIN7yUAHHvJ1"
      },
      "source": [
        "# 사용 패키지"
      ]
    },
    {
      "cell_type": "markdown",
      "metadata": {
        "id": "zwwhQ-Q0HvJ8"
      },
      "source": [
        "# 데이터 로드\n",
        "\n",
        "## 환경 데이터 통계량 계산 for MinMax Scaling"
      ]
    },
    {
      "cell_type": "code",
      "execution_count": null,
      "metadata": {
        "colab": {
          "base_uri": "https://localhost:8080/"
        },
        "id": "Ohpac__EHvJ8",
        "outputId": "7989f90c-8611-47ee-bafd-2f3360ffcd7c"
      },
      "outputs": [
        {
          "name": "stderr",
          "output_type": "stream",
          "text": [
            "100%|██████████| 5766/5766 [00:47<00:00, 121.77it/s]\n"
          ]
        },
        {
          "data": {
            "text/plain": [
              "{'내부 습도 1 최고': [25.9, 100.0],\n",
              " '내부 습도 1 최저': [0.0, 100.0],\n",
              " '내부 습도 1 평균': [23.7, 100.0],\n",
              " '내부 온도 1 최고': [3.4, 47.6],\n",
              " '내부 온도 1 최저': [3.3, 47.0],\n",
              " '내부 온도 1 평균': [3.4, 47.3],\n",
              " '내부 이슬점 최고': [0.2, 34.7],\n",
              " '내부 이슬점 최저': [0.0, 34.4],\n",
              " '내부 이슬점 평균': [0.1, 34.5]}"
            ]
          },
          "execution_count": 7,
          "metadata": {},
          "output_type": "execute_result"
        }
      ],
      "source": [
        "# 분석에 사용할 feature 선택\n",
        "csv_features = ['내부 온도 1 평균', '내부 온도 1 최고', '내부 온도 1 최저', '내부 습도 1 평균', '내부 습도 1 최고', \n",
        "                '내부 습도 1 최저', '내부 이슬점 평균', '내부 이슬점 최고', '내부 이슬점 최저']\n",
        "\n",
        "csv_files = sorted(glob.glob('/content/drive/MyDrive/data/train/*/*.csv'))\n",
        "\n",
        "temp_csv = pd.read_csv(csv_files[0])[csv_features]\n",
        "max_arr, min_arr = temp_csv.max().to_numpy(), temp_csv.min().to_numpy()\n",
        "\n",
        "# feature 별 최대값, 최솟값 계산\n",
        "for csv in tqdm(csv_files[1:]):\n",
        "    temp_csv = pd.read_csv(csv)[csv_features]\n",
        "    temp_csv = temp_csv.replace('-',np.nan).dropna()\n",
        "    if len(temp_csv) == 0:\n",
        "        continue\n",
        "    temp_csv = temp_csv.astype(float)\n",
        "    temp_max, temp_min = temp_csv.max().to_numpy(), temp_csv.min().to_numpy()\n",
        "    max_arr = np.max([max_arr,temp_max], axis=0)\n",
        "    min_arr = np.min([min_arr,temp_min], axis=0)\n",
        "\n",
        "# feature 별 최대값, 최솟값 dictionary 생성\n",
        "csv_feature_dict = {csv_features[i]:[min_arr[i], max_arr[i]] for i in range(len(csv_features))}\n",
        "csv_feature_dict"
      ]
    },
    {
      "cell_type": "markdown",
      "metadata": {
        "id": "QJwRX8KDHvJ9"
      },
      "source": [
        "## CustomDataset 제작"
      ]
    },
    {
      "cell_type": "code",
      "execution_count": null,
      "metadata": {
        "id": "wZmafqxFHvJ9"
      },
      "outputs": [],
      "source": [
        "# 변수 설명 csv 파일 참조\n",
        "crop = {'1':'딸기','2':'토마토','3':'파프리카','4':'오이','5':'고추','6':'시설포도'}\n",
        "disease = {'1':{'a1':'딸기잿빛곰팡이병','a2':'딸기흰가루병','b1':'냉해피해','b6':'다량원소결핍 (N)','b7':'다량원소결핍 (P)','b8':'다량원소결핍 (K)'},\n",
        "           '2':{'a5':'토마토흰가루병','a6':'토마토잿빛곰팡이병','b2':'열과','b3':'칼슘결핍','b6':'다량원소결핍 (N)','b7':'다량원소결핍 (P)','b8':'다량원소결핍 (K)'},\n",
        "           '3':{'a9':'파프리카흰가루병','a10':'파프리카잘록병','b3':'칼슘결핍','b6':'다량원소결핍 (N)','b7':'다량원소결핍 (P)','b8':'다량원소결핍 (K)'},\n",
        "           '4':{'a3':'오이노균병','a4':'오이흰가루병','b1':'냉해피해','b6':'다량원소결핍 (N)','b7':'다량원소결핍 (P)','b8':'다량원소결핍 (K)'},\n",
        "           '5':{'a7':'고추탄저병','a8':'고추흰가루병','b3':'칼슘결핍','b6':'다량원소결핍 (N)','b7':'다량원소결핍 (P)','b8':'다량원소결핍 (K)'},\n",
        "           '6':{'a11':'시설포도탄저병','a12':'시설포도노균병','b4':'일소피해','b5':'축과병'}}\n",
        "risk = {'1':'초기','2':'중기','3':'말기'}"
      ]
    },
    {
      "cell_type": "code",
      "execution_count": null,
      "metadata": {
        "colab": {
          "base_uri": "https://localhost:8080/"
        },
        "id": "7cA_7CU0HvJ-",
        "outputId": "23b7705c-c25e-49ba-e3dc-19a24a59565b"
      },
      "outputs": [
        {
          "data": {
            "text/plain": [
              "[('1_00_0', '딸기_정상'),\n",
              " ('1_a1_1', '딸기_딸기잿빛곰팡이병_초기'),\n",
              " ('1_a1_2', '딸기_딸기잿빛곰팡이병_중기'),\n",
              " ('1_a1_3', '딸기_딸기잿빛곰팡이병_말기'),\n",
              " ('1_a2_1', '딸기_딸기흰가루병_초기'),\n",
              " ('1_a2_2', '딸기_딸기흰가루병_중기'),\n",
              " ('1_a2_3', '딸기_딸기흰가루병_말기'),\n",
              " ('1_b1_1', '딸기_냉해피해_초기'),\n",
              " ('1_b1_2', '딸기_냉해피해_중기'),\n",
              " ('1_b1_3', '딸기_냉해피해_말기')]"
            ]
          },
          "execution_count": 9,
          "metadata": {},
          "output_type": "execute_result"
        }
      ],
      "source": [
        "label_description = {}\n",
        "for key, value in disease.items():\n",
        "    label_description[f'{key}_00_0'] = f'{crop[key]}_정상'\n",
        "    for disease_code in value:\n",
        "        for risk_code in risk:\n",
        "            label = f'{key}_{disease_code}_{risk_code}'\n",
        "            label_description[label] = f'{crop[key]}_{disease[key][disease_code]}_{risk[risk_code]}'\n",
        "list(label_description.items())[:10]"
      ]
    },
    {
      "cell_type": "code",
      "execution_count": null,
      "metadata": {
        "colab": {
          "base_uri": "https://localhost:8080/",
          "height": 35
        },
        "id": "JCLH0hONtSXt",
        "outputId": "aa558413-3513-45ab-d4ae-812cf3cdc137"
      },
      "outputs": [
        {
          "data": {
            "application/vnd.google.colaboratory.intrinsic+json": {
              "type": "string"
            },
            "text/plain": [
              "'\\n    transforms.RandomHorizontalFlip(p=0.5),\\n    transforms.RandomVerticalFlip(p=0.5),\\n\\n'"
            ]
          },
          "execution_count": 10,
          "metadata": {},
          "output_type": "execute_result"
        }
      ],
      "source": [
        "transforms_train = transforms.Compose([\n",
        "    transforms.RandomHorizontalFlip(p=0.5),\n",
        "    transforms.RandomVerticalFlip(p=0.5),\n",
        "    ImageNetPolicy(),\n",
        "\n",
        "    transforms.ToTensor(),\n",
        "    transforms.Normalize(\n",
        "        [0.485, 0.456, 0.406],\n",
        "        [0.229, 0.224, 0.225]\n",
        "    )\n",
        "])\n",
        "transforms_valid = transforms.Compose([\n",
        "    transforms.ToTensor(),\n",
        "    transforms.Normalize(\n",
        "        [0.485, 0.456, 0.406],\n",
        "        [0.229, 0.224, 0.225]\n",
        "    )\n",
        "])\n",
        "'''\n",
        "    transforms.RandomHorizontalFlip(p=0.5),\n",
        "    transforms.RandomVerticalFlip(p=0.5),\n",
        "\n",
        "'''"
      ]
    },
    {
      "cell_type": "code",
      "execution_count": null,
      "metadata": {
        "id": "IpQxNlFkHvJ-"
      },
      "outputs": [],
      "source": [
        "label_encoder = {key:idx for idx, key in enumerate(label_description)}\n",
        "label_decoder = {val:key for key, val in label_encoder.items()}"
      ]
    },
    {
      "cell_type": "code",
      "execution_count": null,
      "metadata": {
        "id": "Yd2fLVqrHvJ_"
      },
      "outputs": [],
      "source": [
        "class CustomDataset(Dataset):\n",
        "    def __init__(self, files, labels=None, mode='train', transforms= Sequence[Callable]):\n",
        "        self.mode = mode\n",
        "        self.files = files\n",
        "        self.csv_feature_dict = csv_feature_dict\n",
        "        self.csv_feature_check = [0]*len(self.files)\n",
        "        self.csv_features = [None]*len(self.files)\n",
        "        self.max_len = 24 * 6\n",
        "        self.label_encoder = label_encoder\n",
        "        self.transforms = transforms\n",
        "\n",
        "    def __len__(self):\n",
        "        return len(self.files)\n",
        "    \n",
        "    def __getitem__(self, i):\n",
        "        file = self.files[i]\n",
        "        file_name = file.split('/')[-1]\n",
        "        \n",
        "        # csv\n",
        "        if self.csv_feature_check[i] == 0:\n",
        "            csv_path = f'{file}/{file_name}.csv'\n",
        "            df = pd.read_csv(csv_path)[self.csv_feature_dict.keys()]\n",
        "            df = df.replace('-', 0)\n",
        "            # MinMax scaling\n",
        "            for col in df.columns:\n",
        "                df[col] = df[col].astype(float) - self.csv_feature_dict[col][0]\n",
        "                df[col] = df[col] / (self.csv_feature_dict[col][1]-self.csv_feature_dict[col][0])\n",
        "            # zero padding\n",
        "            pad = np.zeros((self.max_len, len(df.columns)))\n",
        "            length = min(self.max_len, len(df))\n",
        "            pad[-length:] = df.to_numpy()[-length:]\n",
        "            # transpose to sequential data\n",
        "            csv_feature = pad.T\n",
        "            self.csv_features[i] = csv_feature\n",
        "            self.csv_feature_check[i] = 1\n",
        "        else:\n",
        "            csv_feature = self.csv_features[i]\n",
        "        \n",
        "        # image\n",
        "        image_path = f'{file}/{file_name}.jpg'\n",
        "        img = cv2.imread(image_path)\n",
        "        img = cv2.resize(img, dsize=(256, 256), interpolation=cv2.INTER_AREA)\n",
        "        img = Image.fromarray(img) # NumPy array to PIL image\n",
        "        if self.transforms is not None:\n",
        "          img = self.transforms(img)\n",
        "\n",
        "        if self.mode == 'train':\n",
        "            json_path = f'{file}/{file_name}.json'\n",
        "            with open(json_path, 'r') as f:\n",
        "                json_file = json.load(f)\n",
        "            \n",
        "            crop = json_file['annotations']['crop']\n",
        "            disease = json_file['annotations']['disease']\n",
        "            risk = json_file['annotations']['risk']\n",
        "            label = f'{crop}_{disease}_{risk}'\n",
        "            \n",
        "            return {\n",
        "                'img' : img.clone().detach(),\n",
        "                'csv_feature' : torch.tensor(csv_feature, dtype=torch.float32),\n",
        "                'label' : torch.tensor(self.label_encoder[label], dtype=torch.long)\n",
        "            }\n",
        "        else:\n",
        "            return {\n",
        "                'img' : img.clone().detach(),\n",
        "                'csv_feature' : torch.tensor(csv_feature, dtype=torch.float32)\n",
        "            }"
      ]
    },
    {
      "cell_type": "markdown",
      "metadata": {
        "id": "hP6iUnjrHvJ_"
      },
      "source": [
        "# 하이퍼파라미터 및 변수"
      ]
    },
    {
      "cell_type": "code",
      "execution_count": null,
      "metadata": {
        "id": "Kj_o9HrnHvJ_"
      },
      "outputs": [],
      "source": [
        "device = torch.device(\"cuda:0\")\n",
        "batch_size = 64\n",
        "class_n = len(label_encoder)\n",
        "learning_rate = 1e-4\n",
        "# 1e-4 2e-4 1e-3 2e-3\n",
        "embedding_dim = 512\n",
        "num_features = len(csv_feature_dict)\n",
        "max_len = 24*6\n",
        "dropout_rate = 0.1\n",
        "epochs = 50\n",
        "vision_pretrain = True\n",
        "save_path = 'best_model.pt'"
      ]
    },
    {
      "cell_type": "markdown",
      "metadata": {
        "id": "iP531Fr1HvJ_"
      },
      "source": [
        "# 데이터셋 구성"
      ]
    },
    {
      "cell_type": "code",
      "execution_count": null,
      "metadata": {
        "id": "_SqN42ulnrna"
      },
      "outputs": [],
      "source": [
        "#train_focus = [path for path in sorted(glob.glob('/content/drive/MyDrive/data/train/*')) if path.endswith('focus')]\n"
      ]
    },
    {
      "cell_type": "code",
      "execution_count": null,
      "metadata": {
        "id": "F0ETQjOZHvKA"
      },
      "outputs": [],
      "source": [
        "train_origin = [path for path in sorted(glob.glob('/content/drive/MyDrive/data/train/*')) if not path.endswith('focus')]\n",
        "\n",
        "labelsss = pd.read_csv('/content/drive/MyDrive/data/train.csv')['label']\n",
        "train, val = train_test_split(train_origin, test_size=0.2, stratify=labelsss)"
      ]
    },
    {
      "cell_type": "code",
      "execution_count": null,
      "metadata": {
        "id": "6qtIqFWpHvKA"
      },
      "outputs": [],
      "source": [
        "\n",
        "train_dataset = CustomDataset(train,transforms=transforms_train)\n",
        "val_dataset = CustomDataset(val,transforms=transforms_valid)\n",
        "\n",
        "train_dataloader = torch.utils.data.DataLoader(\n",
        "                      train_dataset,\n",
        "                      pin_memory=True,    \n",
        "                      batch_size=batch_size, \n",
        "                      num_workers=4, \n",
        "                      shuffle=True)\n",
        "\n",
        "\n",
        "val_dataloader = torch.utils.data.DataLoader(val_dataset,\n",
        "                                             pin_memory=True,\n",
        "                                             batch_size=batch_size, \n",
        "                                             num_workers=4, shuffle=True)\n"
      ]
    },
    {
      "cell_type": "code",
      "execution_count": null,
      "metadata": {
        "id": "4TzT501lHvKA"
      },
      "outputs": [],
      "source": [
        "class CNN_Encoder(nn.Module):\n",
        "    def __init__(self, class_n, rate=0.1):\n",
        "        super(CNN_Encoder, self).__init__()\n",
        "        self.model = models.densenet201(pretrained=True)\n",
        "\n",
        "    def forward(self, inputs):\n",
        "        output = self.model(inputs)\n",
        "        return output"
      ]
    },
    {
      "cell_type": "code",
      "execution_count": null,
      "metadata": {
        "id": "pN6SsMiIHvKB"
      },
      "outputs": [],
      "source": [
        "class RNN_Decoder(nn.Module):\n",
        "    def __init__(self, max_len, embedding_dim, num_features, class_n, rate):\n",
        "        super(RNN_Decoder, self).__init__()\n",
        "        #self.lstm = nn.LSTM(max_len, embedding_dim,num_layers=1)\n",
        "        self.lstm = nn.LSTM(max_len, embedding_dim,num_layers=3,bidirectional=False) #bidirectional 사용, 3층이 가장 최적화\n",
        "\n",
        "        self.rnn_fc = nn.Linear(num_features*embedding_dim, 1000)\n",
        "        self.final_layer = nn.Linear(1000 + 1000, class_n) # resnet out_dim + lstm out_dim\n",
        "        self.dropout = nn.Dropout(rate)\n",
        "\n",
        "    def forward(self, enc_out, dec_inp):\n",
        "        hidden, _ = self.lstm(dec_inp)\n",
        "        hidden = hidden.view(hidden.size(0), -1)\n",
        "        hidden = self.rnn_fc(hidden)\n",
        "        concat = torch.cat([enc_out, hidden], dim=1) # enc_out + hidden \n",
        "        fc_input = concat\n",
        "        output = self.dropout((self.final_layer(fc_input)))\n",
        "        return output"
      ]
    },
    {
      "cell_type": "markdown",
      "metadata": {
        "id": "HRGMk9MOHvKB"
      },
      "source": [
        "\n",
        "\n",
        "\n",
        "\n",
        "## 앙상블"
      ]
    },
    {
      "cell_type": "code",
      "execution_count": null,
      "metadata": {
        "id": "jkl20GhnHvKB"
      },
      "outputs": [],
      "source": [
        "class CNN2RNN(nn.Module):\n",
        "    def __init__(self, max_len, embedding_dim, num_features, class_n, rate):\n",
        "        super(CNN2RNN, self).__init__()\n",
        "        self.cnn = CNN_Encoder(embedding_dim, rate)\n",
        "        self.rnn = RNN_Decoder(max_len, embedding_dim, num_features, class_n, rate)\n",
        "\n",
        "    def forward(self, img, seq):\n",
        "        cnn_output = self.cnn(img)\n",
        "        output = self.rnn(cnn_output, seq)\n",
        "        \n",
        "        return output"
      ]
    },
    {
      "cell_type": "code",
      "execution_count": null,
      "metadata": {
        "colab": {
          "base_uri": "https://localhost:8080/",
          "height": 161,
          "referenced_widgets": [
            "ee6d23cd73d14df4905759011ccc200c",
            "6f359549a550424283b96b2942dce300",
            "9d0ca9d0ad774f76bd50f894f0f0eac8",
            "995ce97c441d44dc95edd083e441121b",
            "543157dd195d46f39574b8f7a4eb466d",
            "23ee68b443c5454bb63cff57c83ad4bf",
            "25765704d82641938ce663370def7bad",
            "d6b0490bec594f93a9469f63b1d04724",
            "9384c804536c4fafb02d2f264791aee8",
            "6fd34bd5c0dd497191a31d333dc21b82",
            "eb27f52d4c084b8692c0c876455e3438"
          ]
        },
        "id": "cU2-ytQ0HvKB",
        "outputId": "b01c652a-5df1-4fb6-a564-0cd23ab37b48"
      },
      "outputs": [
        {
          "name": "stderr",
          "output_type": "stream",
          "text": [
            "/usr/local/lib/python3.7/dist-packages/torchvision/models/_utils.py:209: UserWarning: The parameter 'pretrained' is deprecated since 0.13 and will be removed in 0.15, please use 'weights' instead.\n",
            "  f\"The parameter '{pretrained_param}' is deprecated since 0.13 and will be removed in 0.15, \"\n",
            "/usr/local/lib/python3.7/dist-packages/torchvision/models/_utils.py:223: UserWarning: Arguments other than a weight enum or `None` for 'weights' are deprecated since 0.13 and will be removed in 0.15. The current behavior is equivalent to passing `weights=DenseNet201_Weights.IMAGENET1K_V1`. You can also use `weights=DenseNet201_Weights.DEFAULT` to get the most up-to-date weights.\n",
            "  warnings.warn(msg)\n",
            "Downloading: \"https://download.pytorch.org/models/densenet201-c1103571.pth\" to /root/.cache/torch/hub/checkpoints/densenet201-c1103571.pth\n"
          ]
        },
        {
          "data": {
            "application/vnd.jupyter.widget-view+json": {
              "model_id": "ee6d23cd73d14df4905759011ccc200c",
              "version_major": 2,
              "version_minor": 0
            },
            "text/plain": [
              "  0%|          | 0.00/77.4M [00:00<?, ?B/s]"
            ]
          },
          "metadata": {},
          "output_type": "display_data"
        }
      ],
      "source": [
        "model = CNN2RNN(max_len=max_len, embedding_dim=embedding_dim, num_features=num_features, class_n=class_n, rate=dropout_rate)\n",
        "model = model.to(device)"
      ]
    },
    {
      "cell_type": "markdown",
      "metadata": {
        "id": "OId3a29OHvKB"
      },
      "source": [
        "# 학습"
      ]
    },
    {
      "cell_type": "code",
      "execution_count": null,
      "metadata": {
        "id": "g54vAjzTHvKC"
      },
      "outputs": [],
      "source": [
        "optimizer = torch.optim.Adam(model.parameters(), lr=learning_rate)\n",
        "criterion = nn.CrossEntropyLoss()\n",
        "use_amp = True\n",
        "scaler = torch.cuda.amp.GradScaler(enabled=use_amp)\n",
        "patience=50\n",
        "scheduler = torch.optim.lr_scheduler.CosineAnnealingLR(optimizer=optimizer,T_max=100, eta_min=0.001)\n",
        "early_stopping = EarlyStopping(patience = patience, verbose = True, path =save_path )\n"
      ]
    },
    {
      "cell_type": "code",
      "execution_count": null,
      "metadata": {
        "id": "stRl3QvZHvKC"
      },
      "outputs": [],
      "source": [
        "\n",
        "def accuracy_function(real, pred):    \n",
        "    real = real.cpu()\n",
        "    pred = torch.argmax(pred, dim=1).cpu()\n",
        "    score = f1_score(real, pred, average='macro')\n",
        "    return score\n",
        "\"\"\"\n",
        "def train_step(batch_item, training):\n",
        "    img = batch_item['img'].to(device)\n",
        "    csv_feature = batch_item['csv_feature'].to(device)\n",
        "    label = batch_item['label'].to(device)\n",
        "    model.train()\n",
        "    optimizer.zero_grad()\n",
        "    with torch.cuda.amp.autocast():\n",
        "      output = model(img, csv_feature)\n",
        "      loss = criterion(output, label)\n",
        "    scaler.scale(loss).backward()\n",
        "    scaler.step(optimizer)\n",
        "    scaler.update()\n",
        "    score = accuracy_function(label, output)\n",
        "        \n",
        "    return loss, score\n",
        "\"\"\"\n",
        "def train_step(batch_item, training):\n",
        "\n",
        "    img = batch_item['img'].to(device)\n",
        "    csv_feature = batch_item['csv_feature'].to(device)\n",
        "    label = batch_item['label'].to(device)\n",
        "    model.train()\n",
        "    optimizer.zero_grad()\n",
        "    with torch.cuda.amp.autocast():\n",
        "\n",
        "      if BETA > 0 and np.random.random()>0.5: # cutmix 작동될 확률      \n",
        "        lam = np.random.beta(BETA, BETA)\n",
        "        rand_index = torch.randperm(img.size()[0]).to(device)\n",
        "        target_a = label\n",
        "        target_b = label[rand_index]            \n",
        "        bbx1, bby1, bbx2, bby2 = utils.rand_bbox(img.size(), lam)\n",
        "        img[:, :, bbx1:bbx2, bby1:bby2] = img[rand_index, :, bbx1:bbx2, bby1:bby2]\n",
        "        lam = 1 - ((bbx2 - bbx1) * (bby2 - bby1) / (img.size()[-1] * img.size()[-2]))\n",
        "        output = model(img,csv_feature)\n",
        "        loss = criterion(output, target_a) * lam + criterion(output, target_b) * (1. - lam)\n",
        "\n",
        "      else:\n",
        "        output = model(img, csv_feature)\n",
        "        loss = criterion(output, label)\n",
        "    scaler.scale(loss).backward()\n",
        "    scaler.step(optimizer)\n",
        "    scaler.update()\n",
        "    score = accuracy_function(label, output)\n",
        "        \n",
        "    return loss, score\n",
        "\n",
        "\n",
        "\n"
      ]
    },
    {
      "cell_type": "code",
      "execution_count": null,
      "metadata": {
        "colab": {
          "background_save": true,
          "base_uri": "https://localhost:8080/"
        },
        "id": "3VljaB6QHvKC",
        "outputId": "661321ea-90e6-4412-c4eb-22b6fd8fa571"
      },
      "outputs": [
        {
          "name": "stderr",
          "output_type": "stream",
          "text": [
            "73it [00:57,  1.27it/s, Epoch=1, Loss=2.527406, Mean Loss=0.784854, Mean F-1=0.651234]\n",
            "19it [00:15,  1.26it/s, Epoch=1, Val Loss=1.382339, Mean Val Loss=0.866606, Mean Val F-1=0.646450]\n"
          ]
        },
        {
          "name": "stdout",
          "output_type": "stream",
          "text": [
            "Validation loss decreased (inf --> -0.646450).  Saving model ...\n"
          ]
        },
        {
          "name": "stderr",
          "output_type": "stream",
          "text": [
            "73it [00:56,  1.30it/s, Epoch=2, Loss=1.559375, Mean Loss=0.781556, Mean F-1=0.650018]\n",
            "19it [00:15,  1.26it/s, Epoch=2, Val Loss=0.512207, Mean Val Loss=0.466958, Mean Val F-1=0.773972]\n"
          ]
        },
        {
          "name": "stdout",
          "output_type": "stream",
          "text": [
            "Validation loss decreased (-0.646450 --> -0.773972).  Saving model ...\n"
          ]
        },
        {
          "name": "stderr",
          "output_type": "stream",
          "text": [
            "73it [00:56,  1.29it/s, Epoch=3, Loss=0.285388, Mean Loss=0.768911, Mean F-1=0.667151]\n",
            "19it [00:15,  1.25it/s, Epoch=3, Val Loss=4.207410, Mean Val Loss=0.860729, Mean Val F-1=0.726611]"
          ]
        },
        {
          "name": "stdout",
          "output_type": "stream",
          "text": [
            "EarlyStopping counter: 1 out of 50\n"
          ]
        },
        {
          "name": "stderr",
          "output_type": "stream",
          "text": [
            "\n",
            "73it [00:56,  1.30it/s, Epoch=4, Loss=1.041562, Mean Loss=0.694232, Mean F-1=0.706207]\n",
            "19it [00:15,  1.25it/s, Epoch=4, Val Loss=0.411499, Mean Val Loss=0.557139, Mean Val F-1=0.719816]"
          ]
        },
        {
          "name": "stdout",
          "output_type": "stream",
          "text": [
            "EarlyStopping counter: 2 out of 50\n"
          ]
        },
        {
          "name": "stderr",
          "output_type": "stream",
          "text": [
            "\n",
            "73it [00:56,  1.30it/s, Epoch=5, Loss=1.946552, Mean Loss=0.820775, Mean F-1=0.672354]\n",
            "19it [00:15,  1.24it/s, Epoch=5, Val Loss=0.152527, Mean Val Loss=0.667593, Mean Val F-1=0.751139]"
          ]
        },
        {
          "name": "stdout",
          "output_type": "stream",
          "text": [
            "EarlyStopping counter: 3 out of 50\n"
          ]
        },
        {
          "name": "stderr",
          "output_type": "stream",
          "text": [
            "\n",
            "73it [00:56,  1.29it/s, Epoch=6, Loss=0.030491, Mean Loss=0.706509, Mean F-1=0.689842]\n",
            "19it [00:15,  1.24it/s, Epoch=6, Val Loss=1.834167, Mean Val Loss=0.775323, Mean Val F-1=0.665152]"
          ]
        },
        {
          "name": "stdout",
          "output_type": "stream",
          "text": [
            "EarlyStopping counter: 4 out of 50\n"
          ]
        },
        {
          "name": "stderr",
          "output_type": "stream",
          "text": [
            "\n",
            "73it [00:56,  1.30it/s, Epoch=7, Loss=1.668011, Mean Loss=0.829779, Mean F-1=0.645146]\n",
            "19it [00:15,  1.24it/s, Epoch=7, Val Loss=0.092758, Mean Val Loss=0.630425, Mean Val F-1=0.801275]\n"
          ]
        },
        {
          "name": "stdout",
          "output_type": "stream",
          "text": [
            "Validation loss decreased (-0.773972 --> -0.801275).  Saving model ...\n"
          ]
        },
        {
          "name": "stderr",
          "output_type": "stream",
          "text": [
            "73it [00:55,  1.30it/s, Epoch=8, Loss=2.801929, Mean Loss=0.594427, Mean F-1=0.737260]\n",
            "19it [00:15,  1.23it/s, Epoch=8, Val Loss=1.875898, Mean Val Loss=0.849571, Mean Val F-1=0.687062]\n"
          ]
        },
        {
          "name": "stdout",
          "output_type": "stream",
          "text": [
            "EarlyStopping counter: 1 out of 50\n"
          ]
        },
        {
          "name": "stderr",
          "output_type": "stream",
          "text": [
            "73it [00:56,  1.29it/s, Epoch=9, Loss=2.156791, Mean Loss=0.730144, Mean F-1=0.700610]\n",
            "19it [00:15,  1.23it/s, Epoch=9, Val Loss=1.474365, Mean Val Loss=0.635293, Mean Val F-1=0.702739]"
          ]
        },
        {
          "name": "stdout",
          "output_type": "stream",
          "text": [
            "EarlyStopping counter: 2 out of 50\n"
          ]
        },
        {
          "name": "stderr",
          "output_type": "stream",
          "text": [
            "\n",
            "73it [00:56,  1.29it/s, Epoch=10, Loss=0.318592, Mean Loss=0.649473, Mean F-1=0.701989]\n",
            "19it [00:15,  1.26it/s, Epoch=10, Val Loss=6.185547, Mean Val Loss=0.956951, Mean Val F-1=0.678896]\n"
          ]
        },
        {
          "name": "stdout",
          "output_type": "stream",
          "text": [
            "EarlyStopping counter: 3 out of 50\n"
          ]
        },
        {
          "name": "stderr",
          "output_type": "stream",
          "text": [
            "73it [00:56,  1.30it/s, Epoch=11, Loss=1.567554, Mean Loss=0.719342, Mean F-1=0.672324]\n",
            "19it [00:15,  1.25it/s, Epoch=11, Val Loss=0.142639, Mean Val Loss=0.607302, Mean Val F-1=0.741663]\n"
          ]
        },
        {
          "name": "stdout",
          "output_type": "stream",
          "text": [
            "EarlyStopping counter: 4 out of 50\n"
          ]
        },
        {
          "name": "stderr",
          "output_type": "stream",
          "text": [
            "73it [00:56,  1.29it/s, Epoch=12, Loss=2.122969, Mean Loss=0.702740, Mean F-1=0.665639]\n",
            "19it [00:15,  1.26it/s, Epoch=12, Val Loss=1.765435, Mean Val Loss=0.751028, Mean Val F-1=0.731133]"
          ]
        },
        {
          "name": "stdout",
          "output_type": "stream",
          "text": [
            "EarlyStopping counter: 5 out of 50\n"
          ]
        },
        {
          "name": "stderr",
          "output_type": "stream",
          "text": [
            "\n",
            "73it [00:56,  1.29it/s, Epoch=13, Loss=0.744025, Mean Loss=0.604106, Mean F-1=0.724948]\n",
            "19it [00:15,  1.25it/s, Epoch=13, Val Loss=0.566833, Mean Val Loss=0.576072, Mean Val F-1=0.681365]"
          ]
        },
        {
          "name": "stdout",
          "output_type": "stream",
          "text": [
            "EarlyStopping counter: 6 out of 50\n"
          ]
        },
        {
          "name": "stderr",
          "output_type": "stream",
          "text": [
            "\n",
            "73it [00:57,  1.28it/s, Epoch=14, Loss=0.736848, Mean Loss=0.793341, Mean F-1=0.696827]\n",
            "19it [00:15,  1.25it/s, Epoch=14, Val Loss=0.242493, Mean Val Loss=0.556457, Mean Val F-1=0.751228]"
          ]
        },
        {
          "name": "stdout",
          "output_type": "stream",
          "text": [
            "EarlyStopping counter: 7 out of 50\n"
          ]
        },
        {
          "name": "stderr",
          "output_type": "stream",
          "text": [
            "\n",
            "73it [00:56,  1.30it/s, Epoch=15, Loss=1.567652, Mean Loss=0.727122, Mean F-1=0.669365]\n",
            "19it [00:15,  1.25it/s, Epoch=15, Val Loss=1.468567, Mean Val Loss=0.821570, Mean Val F-1=0.668102]"
          ]
        },
        {
          "name": "stdout",
          "output_type": "stream",
          "text": [
            "EarlyStopping counter: 8 out of 50\n"
          ]
        },
        {
          "name": "stderr",
          "output_type": "stream",
          "text": [
            "\n",
            "73it [00:56,  1.30it/s, Epoch=16, Loss=2.074334, Mean Loss=0.610563, Mean F-1=0.709145]\n",
            "19it [00:15,  1.26it/s, Epoch=16, Val Loss=1.783646, Mean Val Loss=0.764217, Mean Val F-1=0.725784]"
          ]
        },
        {
          "name": "stdout",
          "output_type": "stream",
          "text": [
            "EarlyStopping counter: 9 out of 50\n"
          ]
        },
        {
          "name": "stderr",
          "output_type": "stream",
          "text": [
            "\n",
            "73it [00:56,  1.30it/s, Epoch=17, Loss=0.508234, Mean Loss=0.757844, Mean F-1=0.654160]\n",
            "19it [00:15,  1.25it/s, Epoch=17, Val Loss=1.510132, Mean Val Loss=0.671948, Mean Val F-1=0.736373]\n"
          ]
        },
        {
          "name": "stdout",
          "output_type": "stream",
          "text": [
            "EarlyStopping counter: 10 out of 50\n"
          ]
        },
        {
          "name": "stderr",
          "output_type": "stream",
          "text": [
            "73it [00:56,  1.30it/s, Epoch=18, Loss=2.011033, Mean Loss=0.792351, Mean F-1=0.665979]\n",
            "19it [00:15,  1.25it/s, Epoch=18, Val Loss=0.344849, Mean Val Loss=0.682733, Mean Val F-1=0.725798]\n"
          ]
        },
        {
          "name": "stdout",
          "output_type": "stream",
          "text": [
            "EarlyStopping counter: 11 out of 50\n"
          ]
        },
        {
          "name": "stderr",
          "output_type": "stream",
          "text": [
            "73it [00:56,  1.29it/s, Epoch=19, Loss=1.670498, Mean Loss=0.688313, Mean F-1=0.701394]\n",
            "19it [00:15,  1.25it/s, Epoch=19, Val Loss=2.645412, Mean Val Loss=0.899880, Mean Val F-1=0.638311]\n"
          ]
        },
        {
          "name": "stdout",
          "output_type": "stream",
          "text": [
            "EarlyStopping counter: 12 out of 50\n"
          ]
        },
        {
          "name": "stderr",
          "output_type": "stream",
          "text": [
            "73it [00:55,  1.31it/s, Epoch=20, Loss=1.742718, Mean Loss=0.686801, Mean F-1=0.709774]\n",
            "19it [00:15,  1.26it/s, Epoch=20, Val Loss=0.449219, Mean Val Loss=0.760133, Mean Val F-1=0.741761]\n"
          ]
        },
        {
          "name": "stdout",
          "output_type": "stream",
          "text": [
            "EarlyStopping counter: 13 out of 50\n"
          ]
        },
        {
          "name": "stderr",
          "output_type": "stream",
          "text": [
            "73it [00:55,  1.31it/s, Epoch=21, Loss=0.572898, Mean Loss=0.755757, Mean F-1=0.683647]\n",
            "19it [00:14,  1.27it/s, Epoch=21, Val Loss=2.161939, Mean Val Loss=0.870125, Mean Val F-1=0.622663]\n"
          ]
        },
        {
          "name": "stdout",
          "output_type": "stream",
          "text": [
            "EarlyStopping counter: 14 out of 50\n"
          ]
        },
        {
          "name": "stderr",
          "output_type": "stream",
          "text": [
            "73it [00:55,  1.31it/s, Epoch=22, Loss=0.140587, Mean Loss=0.772807, Mean F-1=0.698903]\n",
            "19it [00:15,  1.24it/s, Epoch=22, Val Loss=0.204559, Mean Val Loss=0.625156, Mean Val F-1=0.764897]"
          ]
        },
        {
          "name": "stdout",
          "output_type": "stream",
          "text": [
            "EarlyStopping counter: 15 out of 50\n"
          ]
        },
        {
          "name": "stderr",
          "output_type": "stream",
          "text": [
            "\n",
            "73it [00:56,  1.29it/s, Epoch=23, Loss=2.933379, Mean Loss=0.802276, Mean F-1=0.709862]\n",
            "19it [00:15,  1.25it/s, Epoch=23, Val Loss=1.077637, Mean Val Loss=0.554086, Mean Val F-1=0.760267]\n"
          ]
        },
        {
          "name": "stdout",
          "output_type": "stream",
          "text": [
            "EarlyStopping counter: 16 out of 50\n"
          ]
        },
        {
          "name": "stderr",
          "output_type": "stream",
          "text": [
            "73it [00:55,  1.31it/s, Epoch=24, Loss=0.681724, Mean Loss=0.770467, Mean F-1=0.657305]\n",
            "19it [00:15,  1.25it/s, Epoch=24, Val Loss=3.466015, Mean Val Loss=0.872150, Mean Val F-1=0.668267]"
          ]
        },
        {
          "name": "stdout",
          "output_type": "stream",
          "text": [
            "EarlyStopping counter: 17 out of 50\n"
          ]
        },
        {
          "name": "stderr",
          "output_type": "stream",
          "text": [
            "\n",
            "73it [00:55,  1.31it/s, Epoch=25, Loss=0.612835, Mean Loss=0.748390, Mean F-1=0.663738]\n",
            "19it [00:15,  1.26it/s, Epoch=25, Val Loss=2.462891, Mean Val Loss=0.827400, Mean Val F-1=0.713947]"
          ]
        },
        {
          "name": "stdout",
          "output_type": "stream",
          "text": [
            "EarlyStopping counter: 18 out of 50\n"
          ]
        },
        {
          "name": "stderr",
          "output_type": "stream",
          "text": [
            "\n",
            "73it [00:55,  1.30it/s, Epoch=26, Loss=2.922716, Mean Loss=0.817225, Mean F-1=0.690867]\n",
            "19it [00:15,  1.27it/s, Epoch=26, Val Loss=0.768921, Mean Val Loss=0.816623, Mean Val F-1=0.656110]\n"
          ]
        },
        {
          "name": "stdout",
          "output_type": "stream",
          "text": [
            "EarlyStopping counter: 19 out of 50\n"
          ]
        },
        {
          "name": "stderr",
          "output_type": "stream",
          "text": [
            "73it [00:56,  1.30it/s, Epoch=27, Loss=0.265380, Mean Loss=0.752577, Mean F-1=0.703461]\n",
            "19it [00:15,  1.26it/s, Epoch=27, Val Loss=1.556519, Mean Val Loss=0.872884, Mean Val F-1=0.637399]\n"
          ]
        },
        {
          "name": "stdout",
          "output_type": "stream",
          "text": [
            "EarlyStopping counter: 20 out of 50\n"
          ]
        },
        {
          "name": "stderr",
          "output_type": "stream",
          "text": [
            "73it [00:56,  1.29it/s, Epoch=28, Loss=0.806720, Mean Loss=0.788459, Mean F-1=0.668478]\n",
            "19it [00:14,  1.27it/s, Epoch=28, Val Loss=4.816406, Mean Val Loss=0.993166, Mean Val F-1=0.677245]"
          ]
        },
        {
          "name": "stdout",
          "output_type": "stream",
          "text": [
            "EarlyStopping counter: 21 out of 50\n"
          ]
        },
        {
          "name": "stderr",
          "output_type": "stream",
          "text": [
            "\n",
            "73it [00:56,  1.30it/s, Epoch=29, Loss=1.546277, Mean Loss=0.815433, Mean F-1=0.671655]\n",
            "19it [00:14,  1.27it/s, Epoch=29, Val Loss=0.346436, Mean Val Loss=0.815281, Mean Val F-1=0.690069]"
          ]
        },
        {
          "name": "stdout",
          "output_type": "stream",
          "text": [
            "EarlyStopping counter: 22 out of 50\n"
          ]
        },
        {
          "name": "stderr",
          "output_type": "stream",
          "text": [
            "\n",
            "73it [00:55,  1.30it/s, Epoch=30, Loss=1.112521, Mean Loss=0.736782, Mean F-1=0.710687]\n",
            "19it [00:15,  1.26it/s, Epoch=30, Val Loss=0.196106, Mean Val Loss=0.614750, Mean Val F-1=0.741386]"
          ]
        },
        {
          "name": "stdout",
          "output_type": "stream",
          "text": [
            "EarlyStopping counter: 23 out of 50\n"
          ]
        },
        {
          "name": "stderr",
          "output_type": "stream",
          "text": [
            "\n",
            "73it [00:56,  1.30it/s, Epoch=31, Loss=2.049903, Mean Loss=0.812776, Mean F-1=0.687414]\n",
            "19it [00:15,  1.27it/s, Epoch=31, Val Loss=0.579117, Mean Val Loss=0.713262, Mean Val F-1=0.741260]"
          ]
        },
        {
          "name": "stdout",
          "output_type": "stream",
          "text": [
            "EarlyStopping counter: 24 out of 50\n"
          ]
        },
        {
          "name": "stderr",
          "output_type": "stream",
          "text": [
            "\n",
            "73it [00:56,  1.30it/s, Epoch=32, Loss=2.299488, Mean Loss=0.861389, Mean F-1=0.667891]\n",
            "19it [00:15,  1.23it/s, Epoch=32, Val Loss=3.090820, Mean Val Loss=0.777300, Mean Val F-1=0.726226]"
          ]
        },
        {
          "name": "stdout",
          "output_type": "stream",
          "text": [
            "EarlyStopping counter: 25 out of 50\n"
          ]
        },
        {
          "name": "stderr",
          "output_type": "stream",
          "text": [
            "\n",
            "73it [00:56,  1.28it/s, Epoch=33, Loss=0.848978, Mean Loss=0.863265, Mean F-1=0.684560]\n",
            "19it [00:14,  1.27it/s, Epoch=33, Val Loss=2.413574, Mean Val Loss=0.760667, Mean Val F-1=0.727076]"
          ]
        },
        {
          "name": "stdout",
          "output_type": "stream",
          "text": [
            "EarlyStopping counter: 26 out of 50\n"
          ]
        },
        {
          "name": "stderr",
          "output_type": "stream",
          "text": [
            "\n",
            "73it [00:56,  1.29it/s, Epoch=34, Loss=0.768540, Mean Loss=0.904371, Mean F-1=0.682022]\n",
            "19it [00:15,  1.25it/s, Epoch=34, Val Loss=0.802673, Mean Val Loss=0.796646, Mean Val F-1=0.783456]"
          ]
        },
        {
          "name": "stdout",
          "output_type": "stream",
          "text": [
            "EarlyStopping counter: 27 out of 50\n"
          ]
        },
        {
          "name": "stderr",
          "output_type": "stream",
          "text": [
            "\n",
            "73it [00:55,  1.31it/s, Epoch=35, Loss=1.644999, Mean Loss=0.872424, Mean F-1=0.617311]\n",
            "19it [00:15,  1.22it/s, Epoch=35, Val Loss=4.527602, Mean Val Loss=0.900315, Mean Val F-1=0.703329]"
          ]
        },
        {
          "name": "stdout",
          "output_type": "stream",
          "text": [
            "EarlyStopping counter: 28 out of 50\n"
          ]
        },
        {
          "name": "stderr",
          "output_type": "stream",
          "text": [
            "\n",
            "73it [00:55,  1.31it/s, Epoch=36, Loss=1.607983, Mean Loss=0.810845, Mean F-1=0.681432]\n",
            "19it [00:15,  1.26it/s, Epoch=36, Val Loss=0.982666, Mean Val Loss=0.930808, Mean Val F-1=0.722016]"
          ]
        },
        {
          "name": "stdout",
          "output_type": "stream",
          "text": [
            "EarlyStopping counter: 29 out of 50\n"
          ]
        },
        {
          "name": "stderr",
          "output_type": "stream",
          "text": [
            "\n",
            "73it [00:56,  1.30it/s, Epoch=37, Loss=0.986084, Mean Loss=0.838035, Mean F-1=0.669265]\n",
            "19it [00:14,  1.27it/s, Epoch=37, Val Loss=2.052176, Mean Val Loss=0.771026, Mean Val F-1=0.715650]"
          ]
        },
        {
          "name": "stdout",
          "output_type": "stream",
          "text": [
            "EarlyStopping counter: 30 out of 50\n"
          ]
        },
        {
          "name": "stderr",
          "output_type": "stream",
          "text": [
            "\n",
            "73it [00:55,  1.31it/s, Epoch=38, Loss=1.255296, Mean Loss=0.763224, Mean F-1=0.694576]\n",
            "19it [00:15,  1.25it/s, Epoch=38, Val Loss=1.083496, Mean Val Loss=0.780551, Mean Val F-1=0.666935]"
          ]
        },
        {
          "name": "stdout",
          "output_type": "stream",
          "text": [
            "EarlyStopping counter: 31 out of 50\n"
          ]
        },
        {
          "name": "stderr",
          "output_type": "stream",
          "text": [
            "\n",
            "73it [00:55,  1.32it/s, Epoch=39, Loss=0.110074, Mean Loss=0.906392, Mean F-1=0.667154]\n",
            "19it [00:14,  1.28it/s, Epoch=39, Val Loss=0.899872, Mean Val Loss=0.736998, Mean Val F-1=0.770852]"
          ]
        },
        {
          "name": "stdout",
          "output_type": "stream",
          "text": [
            "EarlyStopping counter: 32 out of 50\n"
          ]
        },
        {
          "name": "stderr",
          "output_type": "stream",
          "text": [
            "\n",
            "73it [00:55,  1.31it/s, Epoch=40, Loss=1.021335, Mean Loss=0.844513, Mean F-1=0.652832]\n",
            "19it [00:15,  1.26it/s, Epoch=40, Val Loss=1.576996, Mean Val Loss=0.687345, Mean Val F-1=0.747058]\n"
          ]
        },
        {
          "name": "stdout",
          "output_type": "stream",
          "text": [
            "EarlyStopping counter: 33 out of 50\n"
          ]
        },
        {
          "name": "stderr",
          "output_type": "stream",
          "text": [
            "73it [00:55,  1.31it/s, Epoch=41, Loss=0.230206, Mean Loss=0.767294, Mean F-1=0.653286]\n",
            "19it [00:15,  1.25it/s, Epoch=41, Val Loss=2.186916, Mean Val Loss=0.863030, Mean Val F-1=0.644493]"
          ]
        },
        {
          "name": "stdout",
          "output_type": "stream",
          "text": [
            "EarlyStopping counter: 34 out of 50\n"
          ]
        },
        {
          "name": "stderr",
          "output_type": "stream",
          "text": [
            "\n",
            "73it [00:55,  1.31it/s, Epoch=42, Loss=1.906795, Mean Loss=0.731252, Mean F-1=0.701267]\n",
            "19it [00:15,  1.27it/s, Epoch=42, Val Loss=1.007812, Mean Val Loss=0.857962, Mean Val F-1=0.721229]"
          ]
        },
        {
          "name": "stdout",
          "output_type": "stream",
          "text": [
            "EarlyStopping counter: 35 out of 50\n"
          ]
        },
        {
          "name": "stderr",
          "output_type": "stream",
          "text": [
            "\n",
            "73it [00:55,  1.32it/s, Epoch=43, Loss=2.424573, Mean Loss=0.843579, Mean F-1=0.701051]\n",
            "19it [00:15,  1.25it/s, Epoch=43, Val Loss=3.306152, Mean Val Loss=0.850652, Mean Val F-1=0.638387]"
          ]
        },
        {
          "name": "stdout",
          "output_type": "stream",
          "text": [
            "EarlyStopping counter: 36 out of 50\n"
          ]
        },
        {
          "name": "stderr",
          "output_type": "stream",
          "text": [
            "\n",
            "73it [00:55,  1.31it/s, Epoch=44, Loss=0.320416, Mean Loss=0.981938, Mean F-1=0.634532]\n",
            "19it [00:15,  1.25it/s, Epoch=44, Val Loss=1.593626, Mean Val Loss=0.822097, Mean Val F-1=0.679584]"
          ]
        },
        {
          "name": "stdout",
          "output_type": "stream",
          "text": [
            "EarlyStopping counter: 37 out of 50\n"
          ]
        },
        {
          "name": "stderr",
          "output_type": "stream",
          "text": [
            "\n",
            "73it [00:55,  1.30it/s, Epoch=45, Loss=2.622684, Mean Loss=0.789896, Mean F-1=0.660476]\n",
            "19it [00:15,  1.25it/s, Epoch=45, Val Loss=3.901471, Mean Val Loss=0.950426, Mean Val F-1=0.720728]"
          ]
        },
        {
          "name": "stdout",
          "output_type": "stream",
          "text": [
            "EarlyStopping counter: 38 out of 50\n"
          ]
        },
        {
          "name": "stderr",
          "output_type": "stream",
          "text": [
            "\n",
            "73it [00:55,  1.32it/s, Epoch=46, Loss=0.706575, Mean Loss=0.930397, Mean F-1=0.668000]\n",
            "19it [00:15,  1.26it/s, Epoch=46, Val Loss=0.748779, Mean Val Loss=0.706937, Mean Val F-1=0.767303]"
          ]
        },
        {
          "name": "stdout",
          "output_type": "stream",
          "text": [
            "EarlyStopping counter: 39 out of 50\n"
          ]
        },
        {
          "name": "stderr",
          "output_type": "stream",
          "text": [
            "\n",
            "73it [00:56,  1.30it/s, Epoch=47, Loss=0.792987, Mean Loss=0.972044, Mean F-1=0.632310]\n",
            "19it [00:15,  1.24it/s, Epoch=47, Val Loss=2.919922, Mean Val Loss=1.043302, Mean Val F-1=0.682937]"
          ]
        },
        {
          "name": "stdout",
          "output_type": "stream",
          "text": [
            "EarlyStopping counter: 40 out of 50\n"
          ]
        },
        {
          "name": "stderr",
          "output_type": "stream",
          "text": [
            "\n",
            "73it [00:56,  1.30it/s, Epoch=48, Loss=0.143745, Mean Loss=0.967736, Mean F-1=0.620650]\n",
            "19it [00:15,  1.25it/s, Epoch=48, Val Loss=4.206055, Mean Val Loss=1.145591, Mean Val F-1=0.651626]"
          ]
        },
        {
          "name": "stdout",
          "output_type": "stream",
          "text": [
            "EarlyStopping counter: 41 out of 50\n"
          ]
        },
        {
          "name": "stderr",
          "output_type": "stream",
          "text": [
            "\n",
            "73it [00:55,  1.31it/s, Epoch=49, Loss=0.274168, Mean Loss=0.777870, Mean F-1=0.624300]\n",
            "19it [00:15,  1.25it/s, Epoch=49, Val Loss=1.047546, Mean Val Loss=0.882003, Mean Val F-1=0.661879]"
          ]
        },
        {
          "name": "stdout",
          "output_type": "stream",
          "text": [
            "EarlyStopping counter: 42 out of 50\n"
          ]
        },
        {
          "name": "stderr",
          "output_type": "stream",
          "text": [
            "\n",
            "73it [00:56,  1.30it/s, Epoch=50, Loss=0.785177, Mean Loss=0.828909, Mean F-1=0.672890]\n",
            "19it [00:15,  1.25it/s, Epoch=50, Val Loss=0.562744, Mean Val Loss=0.942682, Mean Val F-1=0.694439]"
          ]
        },
        {
          "name": "stdout",
          "output_type": "stream",
          "text": [
            "EarlyStopping counter: 43 out of 50\n"
          ]
        },
        {
          "name": "stderr",
          "output_type": "stream",
          "text": [
            "\n"
          ]
        }
      ],
      "source": [
        "\n",
        "loss_plot, val_loss_plot = [], []\n",
        "metric_plot, val_metric_plot = [], []\n",
        "BETA=1.0\n",
        "for epoch in range(epochs):\n",
        "    total_loss, total_val_loss = 0, 0\n",
        "    total_acc, total_val_acc = 0, 0\n",
        "    \n",
        "    tqdm_dataset = tqdm(enumerate(train_dataloader))\n",
        "    training = True\n",
        "    for batch, batch_item in tqdm_dataset:\n",
        "        batch_loss, batch_acc = train_step(batch_item, training)\n",
        "        total_loss += batch_loss\n",
        "        total_acc += batch_acc\n",
        "        \n",
        "        tqdm_dataset.set_postfix({\n",
        "            'Epoch': epoch + 1,\n",
        "            'Loss': '{:06f}'.format(batch_loss.item()),\n",
        "            'Mean Loss' : '{:06f}'.format(total_loss/(batch+1)),\n",
        "            'Mean F-1' : '{:06f}'.format(total_acc/(batch+1))\n",
        "        })\n",
        "    loss_plot.append(total_loss/(batch+1))\n",
        "    metric_plot.append(total_acc/(batch+1))\n",
        "    \n",
        "    tqdm_dataset = tqdm(enumerate(val_dataloader))\n",
        "    training = False\n",
        "    for batch, batch_item in tqdm_dataset:\n",
        "        batch_loss, batch_acc = train_step(batch_item, training)\n",
        "        total_val_loss += batch_loss\n",
        "        total_val_acc += batch_acc\n",
        "  \n",
        "        tqdm_dataset.set_postfix({\n",
        "            'Epoch': epoch + 1,\n",
        "            'Val Loss': '{:06f}'.format(batch_loss.item()),\n",
        "            'Mean Val Loss' : '{:06f}'.format(total_val_loss/(batch+1)),\n",
        "            'Mean Val F-1' : '{:06f}'.format(total_val_acc/(batch+1))\n",
        "        })\n",
        "    val_loss_plot.append(total_val_loss/(batch+1))\n",
        "    val_metric_plot.append(total_val_acc/(batch+1))\n",
        "    \n",
        "    \n",
        "    early_stopping(-val_metric_plot[-1], model)\n",
        "    if early_stopping.early_stop:\n",
        "        print(\"Early stopping\")\n",
        "        break\n",
        "    scheduler.step() "
      ]
    },
    {
      "cell_type": "code",
      "execution_count": null,
      "metadata": {
        "colab": {
          "background_save": true
        },
        "id": "DqK6_e8VWNK7"
      },
      "outputs": [],
      "source": [
        "\n",
        "val_loss_plot= list(t.cpu().detach().numpy() for t in val_loss_plot)"
      ]
    },
    {
      "cell_type": "code",
      "execution_count": null,
      "metadata": {
        "colab": {
          "background_save": true
        },
        "id": "Cy1chlzjU6or"
      },
      "outputs": [],
      "source": [
        "loss_plot = list(t.cpu().detach().numpy() for t in loss_plot)"
      ]
    },
    {
      "cell_type": "code",
      "execution_count": null,
      "metadata": {
        "colab": {
          "background_save": true
        },
        "id": "6BcwHRFytinO",
        "outputId": "294b805c-7d16-443c-a274-1c6692490515"
      },
      "outputs": [
        {
          "data": {
            "image/png": "[encoded data removed]",
            "text/plain": [
              "<Figure size 432x288 with 1 Axes>"
            ]
          },
          "metadata": {},
          "output_type": "display_data"
        }
      ],
      "source": [
        "utils.show_plot(x=loss_plot,y=val_loss_plot,xlabel='epoch',ylabel='loss',title='Loss',plot_label_1='train_loss',plot_label_2='val_loss')"
      ]
    },
    {
      "cell_type": "code",
      "execution_count": null,
      "metadata": {
        "colab": {
          "background_save": true
        },
        "id": "XyT9FLN9CGHE",
        "outputId": "9c53ee02-c139-41f4-a598-c3b6db63ea54"
      },
      "outputs": [
        {
          "data": {
            "image/png": "[encoded data removed]",
            "text/plain": [
              "<Figure size 432x288 with 1 Axes>"
            ]
          },
          "metadata": {},
          "output_type": "display_data"
        }
      ],
      "source": [
        "utils.show_plot(x=metric_plot,y=val_metric_plot,xlabel='epoch',ylabel='metric',title='F-1',plot_label_1='train_metric',plot_label_2='val_metric')"
      ]
    },
    {
      "cell_type": "code",
      "execution_count": null,
      "metadata": {
        "id": "Ge5hC6lq-cOP"
      },
      "outputs": [],
      "source": [
        ""
      ]
    }
  ],
  "metadata": {
    "accelerator": "GPU",
    "colab": {
      "collapsed_sections": [],
      "machine_shape": "hm",
      "name": "train.ipynb",
      "provenance": []
    },
    "gpuClass": "standard",
    "interpreter": {
      "hash": "8207dccf39e710c758db0a3115e8b6364f9af698460a2f758c1d8836f75fc2ad"
    },
    "kernelspec": {
      "display_name": "eunil_py38",
      "language": "python",
      "name": "python3"
    },
    "language_info": {
      "codemirror_mode": {
        "name": "ipython",
        "version": 3
      },
      "file_extension": ".py",
      "mimetype": "text/x-python",
      "name": "python",
      "nbconvert_exporter": "python",
      "pygments_lexer": "ipython3",
      "version": "3.8.11"
    },
    "widgets": {
      "application/vnd.jupyter.widget-state+json": {
        "23ee68b443c5454bb63cff57c83ad4bf": {
          "model_module": "@jupyter-widgets/base",
          "model_module_version": "1.2.0",
          "model_name": "LayoutModel",
          "state": {
            "_model_module": "@jupyter-widgets/base",
            "_model_module_version": "1.2.0",
            "_model_name": "LayoutModel",
            "_view_count": null,
            "_view_module": "@jupyter-widgets/base",
            "_view_module_version": "1.2.0",
            "_view_name": "LayoutView",
            "align_content": null,
            "align_items": null,
            "align_self": null,
            "border": null,
            "bottom": null,
            "display": null,
            "flex": null,
            "flex_flow": null,
            "grid_area": null,
            "grid_auto_columns": null,
            "grid_auto_flow": null,
            "grid_auto_rows": null,
            "grid_column": null,
            "grid_gap": null,
            "grid_row": null,
            "grid_template_areas": null,
            "grid_template_columns": null,
            "grid_template_rows": null,
            "height": null,
            "justify_content": null,
            "justify_items": null,
            "left": null,
            "margin": null,
            "max_height": null,
            "max_width": null,
            "min_height": null,
            "min_width": null,
            "object_fit": null,
            "object_position": null,
            "order": null,
            "overflow": null,
            "overflow_x": null,
            "overflow_y": null,
            "padding": null,
            "right": null,
            "top": null,
            "visibility": null,
            "width": null
          }
        },
        "25765704d82641938ce663370def7bad": {
          "model_module": "@jupyter-widgets/controls",
          "model_module_version": "1.5.0",
          "model_name": "DescriptionStyleModel",
          "state": {
            "_model_module": "@jupyter-widgets/controls",
            "_model_module_version": "1.5.0",
            "_model_name": "DescriptionStyleModel",
            "_view_count": null,
            "_view_module": "@jupyter-widgets/base",
            "_view_module_version": "1.2.0",
            "_view_name": "StyleView",
            "description_width": ""
          }
        },
        "543157dd195d46f39574b8f7a4eb466d": {
          "model_module": "@jupyter-widgets/base",
          "model_module_version": "1.2.0",
          "model_name": "LayoutModel",
          "state": {
            "_model_module": "@jupyter-widgets/base",
            "_model_module_version": "1.2.0",
            "_model_name": "LayoutModel",
            "_view_count": null,
            "_view_module": "@jupyter-widgets/base",
            "_view_module_version": "1.2.0",
            "_view_name": "LayoutView",
            "align_content": null,
            "align_items": null,
            "align_self": null,
            "border": null,
            "bottom": null,
            "display": null,
            "flex": null,
            "flex_flow": null,
            "grid_area": null,
            "grid_auto_columns": null,
            "grid_auto_flow": null,
            "grid_auto_rows": null,
            "grid_column": null,
            "grid_gap": null,
            "grid_row": null,
            "grid_template_areas": null,
            "grid_template_columns": null,
            "grid_template_rows": null,
            "height": null,
            "justify_content": null,
            "justify_items": null,
            "left": null,
            "margin": null,
            "max_height": null,
            "max_width": null,
            "min_height": null,
            "min_width": null,
            "object_fit": null,
            "object_position": null,
            "order": null,
            "overflow": null,
            "overflow_x": null,
            "overflow_y": null,
            "padding": null,
            "right": null,
            "top": null,
            "visibility": null,
            "width": null
          }
        },
        "6f359549a550424283b96b2942dce300": {
          "model_module": "@jupyter-widgets/controls",
          "model_module_version": "1.5.0",
          "model_name": "HTMLModel",
          "state": {
            "_dom_classes": [],
            "_model_module": "@jupyter-widgets/controls",
            "_model_module_version": "1.5.0",
            "_model_name": "HTMLModel",
            "_view_count": null,
            "_view_module": "@jupyter-widgets/controls",
            "_view_module_version": "1.5.0",
            "_view_name": "HTMLView",
            "description": "",
            "description_tooltip": null,
            "layout": "IPY_MODEL_23ee68b443c5454bb63cff57c83ad4bf",
            "placeholder": "​",
            "style": "IPY_MODEL_25765704d82641938ce663370def7bad",
            "value": "100%"
          }
        },
        "6fd34bd5c0dd497191a31d333dc21b82": {
          "model_module": "@jupyter-widgets/base",
          "model_module_version": "1.2.0",
          "model_name": "LayoutModel",
          "state": {
            "_model_module": "@jupyter-widgets/base",
            "_model_module_version": "1.2.0",
            "_model_name": "LayoutModel",
            "_view_count": null,
            "_view_module": "@jupyter-widgets/base",
            "_view_module_version": "1.2.0",
            "_view_name": "LayoutView",
            "align_content": null,
            "align_items": null,
            "align_self": null,
            "border": null,
            "bottom": null,
            "display": null,
            "flex": null,
            "flex_flow": null,
            "grid_area": null,
            "grid_auto_columns": null,
            "grid_auto_flow": null,
            "grid_auto_rows": null,
            "grid_column": null,
            "grid_gap": null,
            "grid_row": null,
            "grid_template_areas": null,
            "grid_template_columns": null,
            "grid_template_rows": null,
            "height": null,
            "justify_content": null,
            "justify_items": null,
            "left": null,
            "margin": null,
            "max_height": null,
            "max_width": null,
            "min_height": null,
            "min_width": null,
            "object_fit": null,
            "object_position": null,
            "order": null,
            "overflow": null,
            "overflow_x": null,
            "overflow_y": null,
            "padding": null,
            "right": null,
            "top": null,
            "visibility": null,
            "width": null
          }
        },
        "9384c804536c4fafb02d2f264791aee8": {
          "model_module": "@jupyter-widgets/controls",
          "model_module_version": "1.5.0",
          "model_name": "ProgressStyleModel",
          "state": {
            "_model_module": "@jupyter-widgets/controls",
            "_model_module_version": "1.5.0",
            "_model_name": "ProgressStyleModel",
            "_view_count": null,
            "_view_module": "@jupyter-widgets/base",
            "_view_module_version": "1.2.0",
            "_view_name": "StyleView",
            "bar_color": null,
            "description_width": ""
          }
        },
        "995ce97c441d44dc95edd083e441121b": {
          "model_module": "@jupyter-widgets/controls",
          "model_module_version": "1.5.0",
          "model_name": "HTMLModel",
          "state": {
            "_dom_classes": [],
            "_model_module": "@jupyter-widgets/controls",
            "_model_module_version": "1.5.0",
            "_model_name": "HTMLModel",
            "_view_count": null,
            "_view_module": "@jupyter-widgets/controls",
            "_view_module_version": "1.5.0",
            "_view_name": "HTMLView",
            "description": "",
            "description_tooltip": null,
            "layout": "IPY_MODEL_6fd34bd5c0dd497191a31d333dc21b82",
            "placeholder": "​",
            "style": "IPY_MODEL_eb27f52d4c084b8692c0c876455e3438",
            "value": " 77.4M/77.4M [00:01&lt;00:00, 108MB/s]"
          }
        },
        "9d0ca9d0ad774f76bd50f894f0f0eac8": {
          "model_module": "@jupyter-widgets/controls",
          "model_module_version": "1.5.0",
          "model_name": "FloatProgressModel",
          "state": {
            "_dom_classes": [],
            "_model_module": "@jupyter-widgets/controls",
            "_model_module_version": "1.5.0",
            "_model_name": "FloatProgressModel",
            "_view_count": null,
            "_view_module": "@jupyter-widgets/controls",
            "_view_module_version": "1.5.0",
            "_view_name": "ProgressView",
            "bar_style": "success",
            "description": "",
            "description_tooltip": null,
            "layout": "IPY_MODEL_d6b0490bec594f93a9469f63b1d04724",
            "max": 81131730,
            "min": 0,
            "orientation": "horizontal",
            "style": "IPY_MODEL_9384c804536c4fafb02d2f264791aee8",
            "value": 81131730
          }
        },
        "d6b0490bec594f93a9469f63b1d04724": {
          "model_module": "@jupyter-widgets/base",
          "model_module_version": "1.2.0",
          "model_name": "LayoutModel",
          "state": {
            "_model_module": "@jupyter-widgets/base",
            "_model_module_version": "1.2.0",
            "_model_name": "LayoutModel",
            "_view_count": null,
            "_view_module": "@jupyter-widgets/base",
            "_view_module_version": "1.2.0",
            "_view_name": "LayoutView",
            "align_content": null,
            "align_items": null,
            "align_self": null,
            "border": null,
            "bottom": null,
            "display": null,
            "flex": null,
            "flex_flow": null,
            "grid_area": null,
            "grid_auto_columns": null,
            "grid_auto_flow": null,
            "grid_auto_rows": null,
            "grid_column": null,
            "grid_gap": null,
            "grid_row": null,
            "grid_template_areas": null,
            "grid_template_columns": null,
            "grid_template_rows": null,
            "height": null,
            "justify_content": null,
            "justify_items": null,
            "left": null,
            "margin": null,
            "max_height": null,
            "max_width": null,
            "min_height": null,
            "min_width": null,
            "object_fit": null,
            "object_position": null,
            "order": null,
            "overflow": null,
            "overflow_x": null,
            "overflow_y": null,
            "padding": null,
            "right": null,
            "top": null,
            "visibility": null,
            "width": null
          }
        },
        "eb27f52d4c084b8692c0c876455e3438": {
          "model_module": "@jupyter-widgets/controls",
          "model_module_version": "1.5.0",
          "model_name": "DescriptionStyleModel",
          "state": {
            "_model_module": "@jupyter-widgets/controls",
            "_model_module_version": "1.5.0",
            "_model_name": "DescriptionStyleModel",
            "_view_count": null,
            "_view_module": "@jupyter-widgets/base",
            "_view_module_version": "1.2.0",
            "_view_name": "StyleView",
            "description_width": ""
          }
        },
        "ee6d23cd73d14df4905759011ccc200c": {
          "model_module": "@jupyter-widgets/controls",
          "model_module_version": "1.5.0",
          "model_name": "HBoxModel",
          "state": {
            "_dom_classes": [],
            "_model_module": "@jupyter-widgets/controls",
            "_model_module_version": "1.5.0",
            "_model_name": "HBoxModel",
            "_view_count": null,
            "_view_module": "@jupyter-widgets/controls",
            "_view_module_version": "1.5.0",
            "_view_name": "HBoxView",
            "box_style": "",
            "children": [
              "IPY_MODEL_6f359549a550424283b96b2942dce300",
              "IPY_MODEL_9d0ca9d0ad774f76bd50f894f0f0eac8",
              "IPY_MODEL_995ce97c441d44dc95edd083e441121b"
            ],
            "layout": "IPY_MODEL_543157dd195d46f39574b8f7a4eb466d"
          }
        }
      }
    }
  },
  "nbformat": 4,
  "nbformat_minor": 0
}